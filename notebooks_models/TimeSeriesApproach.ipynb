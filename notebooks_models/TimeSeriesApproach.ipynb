{
  "nbformat": 4,
  "nbformat_minor": 0,
  "metadata": {
    "colab": {
      "name": "DataCamp.ipynb",
      "provenance": []
    },
    "kernelspec": {
      "name": "python3",
      "display_name": "Python 3"
    },
    "language_info": {
      "name": "python"
    }
  },
  "cells": [
    {
      "cell_type": "code",
      "execution_count": 50,
      "metadata": {
        "id": "A0kj-qdANzWu"
      },
      "outputs": [],
      "source": [
        "# Importing the train and test data, indexing and sorting it by flight date\n",
        "\n",
        "import pandas as pd\n",
        "\n",
        "train = pd.read_csv(\"/content/flights_train.csv\", index_col =\"flight_date\")\n",
        "train = train.sort_values(by='flight_date')\n",
        "\n",
        "test = pd.read_csv(\"/content/flights_Xtest.csv\",index_col =\"flight_date\")\n",
        "test[\"ROUTE\"] = test[\"from\"] +\"-\" + test[\"to\"]\n",
        "test = test.sort_values(by='flight_date')"
      ]
    },
    {
      "cell_type": "code",
      "source": [
        "# Creating a new column named ROUTE in order to ease slicing\n",
        "\n",
        "train[\"ROUTE\"] = train[\"from\"] +\"-\" + train[\"to\"]"
      ],
      "metadata": {
        "id": "sRS2FYfEOkY0"
      },
      "execution_count": 51,
      "outputs": []
    },
    {
      "cell_type": "code",
      "source": [
        "# Creating a dictionary where the data is sliced by the opted ROUTE, \n",
        "# we will only use the target variable to get a proper time series\n",
        "\n",
        "unique_routes = list(train[\"ROUTE\"].unique())\n",
        "dict_data = dict()\n",
        "for i in unique_routes :\n",
        "  dict_data[i] = train[train['ROUTE'] == i]\n",
        "  dict_data[i] = dict_data[i][\"target\"]\n",
        "\n",
        "dict_test = dict()\n",
        "for i in unique_routes :\n",
        "  dict_test[i] = test[test['ROUTE'] == i]\n",
        "  dict_test[i][\"key\"] = dict_test[i]['ROUTE'] + dict_test[i].index\n",
        "  #dict_test[i] = dict_test[i].index"
      ],
      "metadata": {
        "colab": {
          "base_uri": "https://localhost:8080/"
        },
        "id": "JDm1xEfz7-G4",
        "outputId": "f394bc21-1422-477b-d3f0-088a27e5d661"
      },
      "execution_count": 52,
      "outputs": [
        {
          "output_type": "stream",
          "name": "stderr",
          "text": [
            "/usr/local/lib/python3.7/dist-packages/ipykernel_launcher.py:13: SettingWithCopyWarning: \n",
            "A value is trying to be set on a copy of a slice from a DataFrame.\n",
            "Try using .loc[row_indexer,col_indexer] = value instead\n",
            "\n",
            "See the caveats in the documentation: https://pandas.pydata.org/pandas-docs/stable/user_guide/indexing.html#returning-a-view-versus-a-copy\n",
            "  del sys.path[0]\n"
          ]
        }
      ]
    },
    {
      "cell_type": "code",
      "source": [
        "# Importing SARIMAX to perform forecast, and the mse metric to evaluate results\n",
        "\n",
        "from statsmodels.tsa.statespace.sarimax import SARIMAX\n",
        "from sklearn.metrics import mean_squared_error\n"
      ],
      "metadata": {
        "id": "440053I3BfnC"
      },
      "execution_count": 6,
      "outputs": []
    },
    {
      "cell_type": "code",
      "source": [
        "# Fine-tuning the best parameters p, d, q, for SARIMA can be time consuming we will thus choose \n",
        "# some tuples where we will perform GridSearch\n",
        "dict_results = dict()\n",
        "p_d_q_list = [(0, 1, 0), (1, 0, 0), (0, 0, 1), (1, 1, 1), (1, 0, 1), (1, 1, 0), (0, 1, 1), (0, 1, 2), (1,1,2), (2,2,1), (1, 2, 1), (2, 1, 1), (2, 1, 5)]\n",
        "\n",
        "for i in p_d_q_list :\n",
        "  results = []\n",
        "  for route_data in dict_data :\n",
        "    SARIMAXmodel = SARIMAX(dict_data[route_data][:int(0.8*dict_data[route_data].shape[0])], order = i, seasonal_order=(1,1,2,4))\n",
        "    SARIMAXmodel = SARIMAXmodel.fit()\n",
        "    #len(test.index)\n",
        "    y_pred = SARIMAXmodel.get_forecast(dict_data[route_data][int(0.8*dict_data[route_data].shape[0]):].shape[0])\n",
        "    y_pred_df = y_pred.conf_int(alpha = 0.05) \n",
        "    y_pred_df[\"Predictions\"] = SARIMAXmodel.predict(start = y_pred_df.index[0], end = y_pred_df.index[-1])\n",
        "    y_pred_df.index = dict_data[route_data][int(0.8*dict_data[route_data].shape[0]):].index\n",
        "    y_pred_out = y_pred_df[\"Predictions\"] \n",
        "    arma_rmse = np.sqrt(mean_squared_error(dict_data[route_data][int(0.8*dict_data[route_data].shape[0]):].values, y_pred_df[\"Predictions\"]))\n",
        "    results.append((arma_rmse))\n",
        "  dict_results[i] = np.array(results).mean()"
      ],
      "metadata": {
        "id": "zuz59EkeBg92"
      },
      "execution_count": null,
      "outputs": []
    },
    {
      "cell_type": "code",
      "source": [
        "dict_results"
      ],
      "metadata": {
        "colab": {
          "base_uri": "https://localhost:8080/"
        },
        "id": "qQVDJrkDkc_s",
        "outputId": "c353aec9-af50-4814-e51e-79bff5bc7de8"
      },
      "execution_count": 215,
      "outputs": [
        {
          "output_type": "execute_result",
          "data": {
            "text/plain": [
              "{(0, 0, 1): 0.6686682067839711,\n",
              " (0, 1, 0): 0.9503125783587812,\n",
              " (0, 1, 1): 0.7285743118214949,\n",
              " (0, 1, 2): 0.7244727824780699,\n",
              " (1, 0, 0): 0.6676787093756729,\n",
              " (1, 0, 1): 0.6677622493330241,\n",
              " (1, 1, 0): 0.8645841999682614,\n",
              " (1, 1, 1): 0.7201857895277232,\n",
              " (1, 1, 2): 0.7311834624430609,\n",
              " (1, 2, 1): 1.1240881580641378,\n",
              " (2, 1, 1): 0.7355543049259994,\n",
              " (2, 1, 5): 0.7559343759558306,\n",
              " (2, 2, 1): 1.1500229503183537}"
            ]
          },
          "metadata": {},
          "execution_count": 215
        }
      ]
    },
    {
      "cell_type": "code",
      "source": [
        "# We thus conclude that the tuple (1, 0, 0) gives us the best rmse score on the training set which is 0.6676.\n",
        "# We will now try to forecast using this optimal (p,d,q) value in order to forecast the testdata.\n",
        "\n",
        "for route_data in dict_data :\n",
        "  SARIMAXmodel = SARIMAX(dict_data[route_data], order = (1, 0, 0) , seasonal_order=(1,1,2,4))\n",
        "  SARIMAXmodel = SARIMAXmodel.fit()\n",
        "  y_pred = SARIMAXmodel.get_forecast(dict_test[route_data].shape[0])\n",
        "  y_pred_df = y_pred.conf_int(alpha = 0.05) \n",
        "  y_pred_df[\"Predictions\"] = SARIMAXmodel.predict(start = y_pred_df.index[0], end = y_pred_df.index[-1])\n",
        "  y_pred_df.index = dict_test[route_data].index\n",
        "  y_pred_out = y_pred_df[\"Predictions\"] \n",
        "  dict_test[route_data][\"Predictions\"] = list(y_pred_out)\n",
        "  "
      ],
      "metadata": {
        "id": "8iKjo2dFoceq"
      },
      "execution_count": null,
      "outputs": []
    },
    {
      "cell_type": "code",
      "source": [
        "test_prod = pd.read_csv(\"/content/flights_Xtest.csv\",index_col =\"flight_date\")\n",
        "test_prod[\"ROUTE\"] = test_prod[\"from\"] +\"-\" + test_prod[\"to\"]\n",
        "test_prod[\"key\"] = test_prod[\"from\"] +\"-\" + test_prod[\"to\"] + test_prod.index\n",
        "test_prod"
      ],
      "metadata": {
        "colab": {
          "base_uri": "https://localhost:8080/",
          "height": 455
        },
        "id": "wKoaWzpieeRn",
        "outputId": "b22486e9-006b-46b5-c442-a17383d9b901"
      },
      "execution_count": 55,
      "outputs": [
        {
          "output_type": "execute_result",
          "data": {
            "text/html": [
              "\n",
              "  <div id=\"df-0d7da569-bbe3-46a0-a034-f678e0711de3\">\n",
              "    <div class=\"colab-df-container\">\n",
              "      <div>\n",
              "<style scoped>\n",
              "    .dataframe tbody tr th:only-of-type {\n",
              "        vertical-align: middle;\n",
              "    }\n",
              "\n",
              "    .dataframe tbody tr th {\n",
              "        vertical-align: top;\n",
              "    }\n",
              "\n",
              "    .dataframe thead th {\n",
              "        text-align: right;\n",
              "    }\n",
              "</style>\n",
              "<table border=\"1\" class=\"dataframe\">\n",
              "  <thead>\n",
              "    <tr style=\"text-align: right;\">\n",
              "      <th></th>\n",
              "      <th>from</th>\n",
              "      <th>to</th>\n",
              "      <th>avg_weeks</th>\n",
              "      <th>std_weeks</th>\n",
              "      <th>ROUTE</th>\n",
              "      <th>key</th>\n",
              "    </tr>\n",
              "    <tr>\n",
              "      <th>flight_date</th>\n",
              "      <th></th>\n",
              "      <th></th>\n",
              "      <th></th>\n",
              "      <th></th>\n",
              "      <th></th>\n",
              "      <th></th>\n",
              "    </tr>\n",
              "  </thead>\n",
              "  <tbody>\n",
              "    <tr>\n",
              "      <th>2013-01-22</th>\n",
              "      <td>ATL</td>\n",
              "      <td>MCO</td>\n",
              "      <td>10.363636</td>\n",
              "      <td>8.232025</td>\n",
              "      <td>ATL-MCO</td>\n",
              "      <td>ATL-MCO2013-01-22</td>\n",
              "    </tr>\n",
              "    <tr>\n",
              "      <th>2013-02-22</th>\n",
              "      <td>ATL</td>\n",
              "      <td>DEN</td>\n",
              "      <td>8.294118</td>\n",
              "      <td>5.542616</td>\n",
              "      <td>ATL-DEN</td>\n",
              "      <td>ATL-DEN2013-02-22</td>\n",
              "    </tr>\n",
              "    <tr>\n",
              "      <th>2013-01-31</th>\n",
              "      <td>ORD</td>\n",
              "      <td>EWR</td>\n",
              "      <td>8.933333</td>\n",
              "      <td>9.407191</td>\n",
              "      <td>ORD-EWR</td>\n",
              "      <td>ORD-EWR2013-01-31</td>\n",
              "    </tr>\n",
              "    <tr>\n",
              "      <th>2012-11-15</th>\n",
              "      <td>DFW</td>\n",
              "      <td>ORD</td>\n",
              "      <td>9.900000</td>\n",
              "      <td>6.608607</td>\n",
              "      <td>DFW-ORD</td>\n",
              "      <td>DFW-ORD2012-11-15</td>\n",
              "    </tr>\n",
              "    <tr>\n",
              "      <th>2013-02-13</th>\n",
              "      <td>SEA</td>\n",
              "      <td>SFO</td>\n",
              "      <td>7.000000</td>\n",
              "      <td>4.472136</td>\n",
              "      <td>SEA-SFO</td>\n",
              "      <td>SEA-SFO2013-02-13</td>\n",
              "    </tr>\n",
              "    <tr>\n",
              "      <th>...</th>\n",
              "      <td>...</td>\n",
              "      <td>...</td>\n",
              "      <td>...</td>\n",
              "      <td>...</td>\n",
              "      <td>...</td>\n",
              "      <td>...</td>\n",
              "    </tr>\n",
              "    <tr>\n",
              "      <th>2013-01-30</th>\n",
              "      <td>SEA</td>\n",
              "      <td>ORD</td>\n",
              "      <td>10.055556</td>\n",
              "      <td>7.336229</td>\n",
              "      <td>SEA-ORD</td>\n",
              "      <td>SEA-ORD2013-01-30</td>\n",
              "    </tr>\n",
              "    <tr>\n",
              "      <th>2013-01-03</th>\n",
              "      <td>MCO</td>\n",
              "      <td>EWR</td>\n",
              "      <td>15.310345</td>\n",
              "      <td>10.525830</td>\n",
              "      <td>MCO-EWR</td>\n",
              "      <td>MCO-EWR2013-01-03</td>\n",
              "    </tr>\n",
              "    <tr>\n",
              "      <th>2013-01-13</th>\n",
              "      <td>PHL</td>\n",
              "      <td>DFW</td>\n",
              "      <td>8.529412</td>\n",
              "      <td>6.022018</td>\n",
              "      <td>PHL-DFW</td>\n",
              "      <td>PHL-DFW2013-01-13</td>\n",
              "    </tr>\n",
              "    <tr>\n",
              "      <th>2012-12-23</th>\n",
              "      <td>PHL</td>\n",
              "      <td>ATL</td>\n",
              "      <td>9.315789</td>\n",
              "      <td>6.289786</td>\n",
              "      <td>PHL-ATL</td>\n",
              "      <td>PHL-ATL2012-12-23</td>\n",
              "    </tr>\n",
              "    <tr>\n",
              "      <th>2013-02-05</th>\n",
              "      <td>ORD</td>\n",
              "      <td>EWR</td>\n",
              "      <td>8.727273</td>\n",
              "      <td>10.583864</td>\n",
              "      <td>ORD-EWR</td>\n",
              "      <td>ORD-EWR2013-02-05</td>\n",
              "    </tr>\n",
              "  </tbody>\n",
              "</table>\n",
              "<p>2232 rows × 6 columns</p>\n",
              "</div>\n",
              "      <button class=\"colab-df-convert\" onclick=\"convertToInteractive('df-0d7da569-bbe3-46a0-a034-f678e0711de3')\"\n",
              "              title=\"Convert this dataframe to an interactive table.\"\n",
              "              style=\"display:none;\">\n",
              "        \n",
              "  <svg xmlns=\"http://www.w3.org/2000/svg\" height=\"24px\"viewBox=\"0 0 24 24\"\n",
              "       width=\"24px\">\n",
              "    <path d=\"M0 0h24v24H0V0z\" fill=\"none\"/>\n",
              "    <path d=\"M18.56 5.44l.94 2.06.94-2.06 2.06-.94-2.06-.94-.94-2.06-.94 2.06-2.06.94zm-11 1L8.5 8.5l.94-2.06 2.06-.94-2.06-.94L8.5 2.5l-.94 2.06-2.06.94zm10 10l.94 2.06.94-2.06 2.06-.94-2.06-.94-.94-2.06-.94 2.06-2.06.94z\"/><path d=\"M17.41 7.96l-1.37-1.37c-.4-.4-.92-.59-1.43-.59-.52 0-1.04.2-1.43.59L10.3 9.45l-7.72 7.72c-.78.78-.78 2.05 0 2.83L4 21.41c.39.39.9.59 1.41.59.51 0 1.02-.2 1.41-.59l7.78-7.78 2.81-2.81c.8-.78.8-2.07 0-2.86zM5.41 20L4 18.59l7.72-7.72 1.47 1.35L5.41 20z\"/>\n",
              "  </svg>\n",
              "      </button>\n",
              "      \n",
              "  <style>\n",
              "    .colab-df-container {\n",
              "      display:flex;\n",
              "      flex-wrap:wrap;\n",
              "      gap: 12px;\n",
              "    }\n",
              "\n",
              "    .colab-df-convert {\n",
              "      background-color: #E8F0FE;\n",
              "      border: none;\n",
              "      border-radius: 50%;\n",
              "      cursor: pointer;\n",
              "      display: none;\n",
              "      fill: #1967D2;\n",
              "      height: 32px;\n",
              "      padding: 0 0 0 0;\n",
              "      width: 32px;\n",
              "    }\n",
              "\n",
              "    .colab-df-convert:hover {\n",
              "      background-color: #E2EBFA;\n",
              "      box-shadow: 0px 1px 2px rgba(60, 64, 67, 0.3), 0px 1px 3px 1px rgba(60, 64, 67, 0.15);\n",
              "      fill: #174EA6;\n",
              "    }\n",
              "\n",
              "    [theme=dark] .colab-df-convert {\n",
              "      background-color: #3B4455;\n",
              "      fill: #D2E3FC;\n",
              "    }\n",
              "\n",
              "    [theme=dark] .colab-df-convert:hover {\n",
              "      background-color: #434B5C;\n",
              "      box-shadow: 0px 1px 3px 1px rgba(0, 0, 0, 0.15);\n",
              "      filter: drop-shadow(0px 1px 2px rgba(0, 0, 0, 0.3));\n",
              "      fill: #FFFFFF;\n",
              "    }\n",
              "  </style>\n",
              "\n",
              "      <script>\n",
              "        const buttonEl =\n",
              "          document.querySelector('#df-0d7da569-bbe3-46a0-a034-f678e0711de3 button.colab-df-convert');\n",
              "        buttonEl.style.display =\n",
              "          google.colab.kernel.accessAllowed ? 'block' : 'none';\n",
              "\n",
              "        async function convertToInteractive(key) {\n",
              "          const element = document.querySelector('#df-0d7da569-bbe3-46a0-a034-f678e0711de3');\n",
              "          const dataTable =\n",
              "            await google.colab.kernel.invokeFunction('convertToInteractive',\n",
              "                                                     [key], {});\n",
              "          if (!dataTable) return;\n",
              "\n",
              "          const docLinkHtml = 'Like what you see? Visit the ' +\n",
              "            '<a target=\"_blank\" href=https://colab.research.google.com/notebooks/data_table.ipynb>data table notebook</a>'\n",
              "            + ' to learn more about interactive tables.';\n",
              "          element.innerHTML = '';\n",
              "          dataTable['output_type'] = 'display_data';\n",
              "          await google.colab.output.renderOutput(dataTable, element);\n",
              "          const docLink = document.createElement('div');\n",
              "          docLink.innerHTML = docLinkHtml;\n",
              "          element.appendChild(docLink);\n",
              "        }\n",
              "      </script>\n",
              "    </div>\n",
              "  </div>\n",
              "  "
            ],
            "text/plain": [
              "            from   to  avg_weeks  std_weeks    ROUTE                key\n",
              "flight_date                                                            \n",
              "2013-01-22   ATL  MCO  10.363636   8.232025  ATL-MCO  ATL-MCO2013-01-22\n",
              "2013-02-22   ATL  DEN   8.294118   5.542616  ATL-DEN  ATL-DEN2013-02-22\n",
              "2013-01-31   ORD  EWR   8.933333   9.407191  ORD-EWR  ORD-EWR2013-01-31\n",
              "2012-11-15   DFW  ORD   9.900000   6.608607  DFW-ORD  DFW-ORD2012-11-15\n",
              "2013-02-13   SEA  SFO   7.000000   4.472136  SEA-SFO  SEA-SFO2013-02-13\n",
              "...          ...  ...        ...        ...      ...                ...\n",
              "2013-01-30   SEA  ORD  10.055556   7.336229  SEA-ORD  SEA-ORD2013-01-30\n",
              "2013-01-03   MCO  EWR  15.310345  10.525830  MCO-EWR  MCO-EWR2013-01-03\n",
              "2013-01-13   PHL  DFW   8.529412   6.022018  PHL-DFW  PHL-DFW2013-01-13\n",
              "2012-12-23   PHL  ATL   9.315789   6.289786  PHL-ATL  PHL-ATL2012-12-23\n",
              "2013-02-05   ORD  EWR   8.727273  10.583864  ORD-EWR  ORD-EWR2013-02-05\n",
              "\n",
              "[2232 rows x 6 columns]"
            ]
          },
          "metadata": {},
          "execution_count": 55
        }
      ]
    },
    {
      "cell_type": "code",
      "source": [
        "result = pd.concat(dict_test)"
      ],
      "metadata": {
        "id": "l9IREuz_Bogu"
      },
      "execution_count": 59,
      "outputs": []
    },
    {
      "cell_type": "code",
      "source": [
        "production = pd.merge(test_prod, result, on='key')[[\"Predictions_y\"]]"
      ],
      "metadata": {
        "id": "sfxbej_0DaI6"
      },
      "execution_count": 65,
      "outputs": []
    },
    {
      "cell_type": "code",
      "source": [
        "production.to_csv(\"prod.csv\",header = False, index = False)"
      ],
      "metadata": {
        "id": "FJe49erJFIe2"
      },
      "execution_count": 68,
      "outputs": []
    }
  ]
}