{
 "cells": [
  {
   "cell_type": "markdown",
   "metadata": {},
   "source": [
    "# Requirements :"
   ]
  },
  {
   "cell_type": "code",
   "execution_count": null,
   "metadata": {},
   "outputs": [],
   "source": [
    "#pip install holidays"
   ]
  },
  {
   "cell_type": "code",
   "execution_count": 74,
   "metadata": {},
   "outputs": [],
   "source": [
    "import pandas as pd\n",
    "import numpy as np\n",
    "import matplotlib.pyplot as plt\n",
    "from sklearn.model_selection import train_test_split\n",
    "from sklearn import ensemble\n",
    "from sklearn.inspection import permutation_importance\n",
    "from sklearn.metrics import mean_squared_error, mean_absolute_error\n",
    "from sklearn.experimental import enable_halving_search_cv  # noqa\n",
    "from sklearn.model_selection import HalvingGridSearchCV\n",
    "from sklearn.model_selection import TimeSeriesSplit\n",
    "from sklearn.pipeline import make_pipeline\n",
    "from sklearn.preprocessing import OrdinalEncoder\n",
    "from sklearn.compose import ColumnTransformer\n",
    "from sklearn.model_selection import cross_validate\n",
    "from sklearn.preprocessing import OneHotEncoder\n",
    "from sklearn.preprocessing import MinMaxScaler\n",
    "from sklearn.linear_model import RidgeCV\n",
    "from sklearn.experimental import enable_hist_gradient_boosting\n",
    "from sklearn.ensemble import HistGradientBoostingRegressor\n",
    "from sklearn.ensemble import AdaBoostRegressor\n",
    "from sklearn.preprocessing import FunctionTransformer\n",
    "from sklearn.kernel_approximation import Nystroem\n",
    "\n",
    "import time\n",
    "from datetime import date, datetime\n",
    "import holidays\n"
   ]
  },
  {
   "cell_type": "markdown",
   "metadata": {},
   "source": [
    "# Reading Data :"
   ]
  },
  {
   "cell_type": "code",
   "execution_count": 6,
   "metadata": {},
   "outputs": [
    {
     "data": {
      "text/html": [
       "<div>\n",
       "<style scoped>\n",
       "    .dataframe tbody tr th:only-of-type {\n",
       "        vertical-align: middle;\n",
       "    }\n",
       "\n",
       "    .dataframe tbody tr th {\n",
       "        vertical-align: top;\n",
       "    }\n",
       "\n",
       "    .dataframe thead th {\n",
       "        text-align: right;\n",
       "    }\n",
       "</style>\n",
       "<table border=\"1\" class=\"dataframe\">\n",
       "  <thead>\n",
       "    <tr style=\"text-align: right;\">\n",
       "      <th></th>\n",
       "      <th>flight_date</th>\n",
       "      <th>from</th>\n",
       "      <th>to</th>\n",
       "      <th>avg_weeks</th>\n",
       "      <th>target</th>\n",
       "      <th>std_weeks</th>\n",
       "    </tr>\n",
       "  </thead>\n",
       "  <tbody>\n",
       "    <tr>\n",
       "      <th>0</th>\n",
       "      <td>2012-06-19</td>\n",
       "      <td>ORD</td>\n",
       "      <td>DFW</td>\n",
       "      <td>12.875000</td>\n",
       "      <td>12.331296</td>\n",
       "      <td>9.812647</td>\n",
       "    </tr>\n",
       "    <tr>\n",
       "      <th>1</th>\n",
       "      <td>2012-09-10</td>\n",
       "      <td>LAS</td>\n",
       "      <td>DEN</td>\n",
       "      <td>14.285714</td>\n",
       "      <td>10.775182</td>\n",
       "      <td>9.466734</td>\n",
       "    </tr>\n",
       "    <tr>\n",
       "      <th>2</th>\n",
       "      <td>2012-10-05</td>\n",
       "      <td>DEN</td>\n",
       "      <td>LAX</td>\n",
       "      <td>10.863636</td>\n",
       "      <td>11.083177</td>\n",
       "      <td>9.035883</td>\n",
       "    </tr>\n",
       "    <tr>\n",
       "      <th>3</th>\n",
       "      <td>2011-10-09</td>\n",
       "      <td>ATL</td>\n",
       "      <td>ORD</td>\n",
       "      <td>11.480000</td>\n",
       "      <td>11.169268</td>\n",
       "      <td>7.990202</td>\n",
       "    </tr>\n",
       "    <tr>\n",
       "      <th>4</th>\n",
       "      <td>2012-02-21</td>\n",
       "      <td>DEN</td>\n",
       "      <td>SFO</td>\n",
       "      <td>11.450000</td>\n",
       "      <td>11.269364</td>\n",
       "      <td>9.517159</td>\n",
       "    </tr>\n",
       "  </tbody>\n",
       "</table>\n",
       "</div>"
      ],
      "text/plain": [
       "  flight_date from   to  avg_weeks     target  std_weeks\n",
       "0  2012-06-19  ORD  DFW  12.875000  12.331296   9.812647\n",
       "1  2012-09-10  LAS  DEN  14.285714  10.775182   9.466734\n",
       "2  2012-10-05  DEN  LAX  10.863636  11.083177   9.035883\n",
       "3  2011-10-09  ATL  ORD  11.480000  11.169268   7.990202\n",
       "4  2012-02-21  DEN  SFO  11.450000  11.269364   9.517159"
      ]
     },
     "execution_count": 6,
     "metadata": {},
     "output_type": "execute_result"
    }
   ],
   "source": [
    "train_data = pd.read_csv('/Users/mac/Desktop/Myrepo/Flights-Competition/data/flights_train.csv.bz2')\n",
    "train_data.head()"
   ]
  },
  {
   "cell_type": "code",
   "execution_count": 12,
   "metadata": {},
   "outputs": [
    {
     "data": {
      "text/html": [
       "<div>\n",
       "<style scoped>\n",
       "    .dataframe tbody tr th:only-of-type {\n",
       "        vertical-align: middle;\n",
       "    }\n",
       "\n",
       "    .dataframe tbody tr th {\n",
       "        vertical-align: top;\n",
       "    }\n",
       "\n",
       "    .dataframe thead th {\n",
       "        text-align: right;\n",
       "    }\n",
       "</style>\n",
       "<table border=\"1\" class=\"dataframe\">\n",
       "  <thead>\n",
       "    <tr style=\"text-align: right;\">\n",
       "      <th></th>\n",
       "      <th>flight_date</th>\n",
       "      <th>from</th>\n",
       "      <th>to</th>\n",
       "      <th>avg_weeks</th>\n",
       "      <th>std_weeks</th>\n",
       "    </tr>\n",
       "  </thead>\n",
       "  <tbody>\n",
       "    <tr>\n",
       "      <th>0</th>\n",
       "      <td>2012-06-19</td>\n",
       "      <td>ORD</td>\n",
       "      <td>DFW</td>\n",
       "      <td>12.875000</td>\n",
       "      <td>9.812647</td>\n",
       "    </tr>\n",
       "    <tr>\n",
       "      <th>1</th>\n",
       "      <td>2012-09-10</td>\n",
       "      <td>LAS</td>\n",
       "      <td>DEN</td>\n",
       "      <td>14.285714</td>\n",
       "      <td>9.466734</td>\n",
       "    </tr>\n",
       "    <tr>\n",
       "      <th>2</th>\n",
       "      <td>2012-10-05</td>\n",
       "      <td>DEN</td>\n",
       "      <td>LAX</td>\n",
       "      <td>10.863636</td>\n",
       "      <td>9.035883</td>\n",
       "    </tr>\n",
       "    <tr>\n",
       "      <th>3</th>\n",
       "      <td>2011-10-09</td>\n",
       "      <td>ATL</td>\n",
       "      <td>ORD</td>\n",
       "      <td>11.480000</td>\n",
       "      <td>7.990202</td>\n",
       "    </tr>\n",
       "    <tr>\n",
       "      <th>4</th>\n",
       "      <td>2012-02-21</td>\n",
       "      <td>DEN</td>\n",
       "      <td>SFO</td>\n",
       "      <td>11.450000</td>\n",
       "      <td>9.517159</td>\n",
       "    </tr>\n",
       "  </tbody>\n",
       "</table>\n",
       "</div>"
      ],
      "text/plain": [
       "  flight_date from   to  avg_weeks  std_weeks\n",
       "0  2012-06-19  ORD  DFW  12.875000   9.812647\n",
       "1  2012-09-10  LAS  DEN  14.285714   9.466734\n",
       "2  2012-10-05  DEN  LAX  10.863636   9.035883\n",
       "3  2011-10-09  ATL  ORD  11.480000   7.990202\n",
       "4  2012-02-21  DEN  SFO  11.450000   9.517159"
      ]
     },
     "execution_count": 12,
     "metadata": {},
     "output_type": "execute_result"
    }
   ],
   "source": [
    "target_name = \"target\"\n",
    "target = train_data['target']\n",
    "data_train = train_data.drop(columns=[target_name])\n",
    "data_train.head()"
   ]
  },
  {
   "cell_type": "code",
   "execution_count": 13,
   "metadata": {},
   "outputs": [
    {
     "data": {
      "text/html": [
       "<div>\n",
       "<style scoped>\n",
       "    .dataframe tbody tr th:only-of-type {\n",
       "        vertical-align: middle;\n",
       "    }\n",
       "\n",
       "    .dataframe tbody tr th {\n",
       "        vertical-align: top;\n",
       "    }\n",
       "\n",
       "    .dataframe thead th {\n",
       "        text-align: right;\n",
       "    }\n",
       "</style>\n",
       "<table border=\"1\" class=\"dataframe\">\n",
       "  <thead>\n",
       "    <tr style=\"text-align: right;\">\n",
       "      <th></th>\n",
       "      <th>flight_date</th>\n",
       "      <th>from</th>\n",
       "      <th>to</th>\n",
       "      <th>avg_weeks</th>\n",
       "      <th>std_weeks</th>\n",
       "    </tr>\n",
       "  </thead>\n",
       "  <tbody>\n",
       "    <tr>\n",
       "      <th>0</th>\n",
       "      <td>2013-01-22</td>\n",
       "      <td>ATL</td>\n",
       "      <td>MCO</td>\n",
       "      <td>10.363636</td>\n",
       "      <td>8.232025</td>\n",
       "    </tr>\n",
       "    <tr>\n",
       "      <th>1</th>\n",
       "      <td>2013-02-22</td>\n",
       "      <td>ATL</td>\n",
       "      <td>DEN</td>\n",
       "      <td>8.294118</td>\n",
       "      <td>5.542616</td>\n",
       "    </tr>\n",
       "    <tr>\n",
       "      <th>2</th>\n",
       "      <td>2013-01-31</td>\n",
       "      <td>ORD</td>\n",
       "      <td>EWR</td>\n",
       "      <td>8.933333</td>\n",
       "      <td>9.407191</td>\n",
       "    </tr>\n",
       "    <tr>\n",
       "      <th>3</th>\n",
       "      <td>2012-11-15</td>\n",
       "      <td>DFW</td>\n",
       "      <td>ORD</td>\n",
       "      <td>9.900000</td>\n",
       "      <td>6.608607</td>\n",
       "    </tr>\n",
       "    <tr>\n",
       "      <th>4</th>\n",
       "      <td>2013-02-13</td>\n",
       "      <td>SEA</td>\n",
       "      <td>SFO</td>\n",
       "      <td>7.000000</td>\n",
       "      <td>4.472136</td>\n",
       "    </tr>\n",
       "  </tbody>\n",
       "</table>\n",
       "</div>"
      ],
      "text/plain": [
       "  flight_date from   to  avg_weeks  std_weeks\n",
       "0  2013-01-22  ATL  MCO  10.363636   8.232025\n",
       "1  2013-02-22  ATL  DEN   8.294118   5.542616\n",
       "2  2013-01-31  ORD  EWR   8.933333   9.407191\n",
       "3  2012-11-15  DFW  ORD   9.900000   6.608607\n",
       "4  2013-02-13  SEA  SFO   7.000000   4.472136"
      ]
     },
     "execution_count": 13,
     "metadata": {},
     "output_type": "execute_result"
    }
   ],
   "source": [
    "test_data = pd.read_csv('/Users/mac/Desktop/Myrepo/Flights-Competition/data/flights_Xtest.csv.bz2')\n",
    "test_data.head()"
   ]
  },
  {
   "cell_type": "code",
   "execution_count": 14,
   "metadata": {},
   "outputs": [],
   "source": [
    "numerical_columns = [c for c in data_train.columns\n",
    "                     if data_train[c].dtype.kind in [\"i\", \"f\"]]\n",
    "data_numeric = data_train[numerical_columns]"
   ]
  },
  {
   "cell_type": "markdown",
   "metadata": {},
   "source": [
    "# Only Numerical Data :"
   ]
  },
  {
   "cell_type": "code",
   "execution_count": 15,
   "metadata": {},
   "outputs": [
    {
     "name": "stdout",
     "output_type": "stream",
     "text": [
      "The training dataset contains 6672 samples and 2 features\n",
      "The testing dataset contains 2224 samples and 2 features\n"
     ]
    }
   ],
   "source": [
    "data_train, data_test, target_train, target_test = train_test_split(\n",
    "    data_numeric, target, test_size=  0.25, random_state=42\n",
    ")\n",
    "\n",
    "print(\n",
    "    f\"The training dataset contains {data_train.shape[0]} samples and \"\n",
    "    f\"{data_train.shape[1]} features\"\n",
    ")\n",
    "print(\n",
    "    f\"The testing dataset contains {data_test.shape[0]} samples and \"\n",
    "    f\"{data_test.shape[1]} features\"\n",
    ")"
   ]
  },
  {
   "cell_type": "code",
   "execution_count": 16,
   "metadata": {},
   "outputs": [
    {
     "name": "stdout",
     "output_type": "stream",
     "text": [
      "The model GradientBoostingRegressor was trained in 3.593 seconds\n",
      "\n",
      "The model RandomForestRegressor was trained in 1.520 seconds\n"
     ]
    }
   ],
   "source": [
    "# Models params :\n",
    "\n",
    "\n",
    "xgb_params = {\n",
    "    \"n_estimators\": 500,\n",
    "    \"max_depth\": 4,\n",
    "    \"min_samples_split\": 5,\n",
    "    \"learning_rate\": 0.01,\n",
    "}\n",
    "\n",
    "Rf_params = {\n",
    "    \"n_estimators\": 500,\n",
    "    \"max_depth\": 2,\n",
    "}\n",
    "\n",
    "start = time.time()\n",
    "Xbg_model = ensemble.GradientBoostingRegressor(**xgb_params)\n",
    "Xbg_model.fit(data_train, target_train)\n",
    "elapsed_time_1 = time.time() - start\n",
    "\n",
    "start = time.time()\n",
    "Rf_model = ensemble.RandomForestRegressor(**Rf_params)\n",
    "Rf_model.fit(data_train, target_train)\n",
    "elapsed_time_2 = time.time() - start\n",
    "\n",
    "print(\n",
    "    f\"The model {Xbg_model.__class__.__name__} was trained in \"\n",
    "    f\"{elapsed_time_1:.3f} seconds\"\n",
    ")\n",
    "print()\n",
    "print(\n",
    "    f\"The model {Rf_model.__class__.__name__} was trained in \"\n",
    "    f\"{elapsed_time_2:.3f} seconds\"\n",
    ")"
   ]
  },
  {
   "cell_type": "code",
   "execution_count": 18,
   "metadata": {},
   "outputs": [
    {
     "data": {
      "text/plain": [
       "RandomForestRegressor(max_depth=3, n_estimators=24, random_state=0)"
      ]
     },
     "execution_count": 18,
     "metadata": {},
     "output_type": "execute_result"
    }
   ],
   "source": [
    "param_grid = {'max_depth': [3, 5, 10],\n",
    "               'min_samples_split': [2, 5, 10]\n",
    "}\n",
    "\n",
    "\n",
    "base_estimator = ensemble.RandomForestRegressor(random_state=0)\n",
    "\n",
    "sh = HalvingGridSearchCV(base_estimator, param_grid, cv=5,\n",
    "                         factor=2, resource='n_estimators',\n",
    "                         max_resources=30).fit(data_train, target_train)\n",
    "sh.best_estimator_"
   ]
  },
  {
   "cell_type": "code",
   "execution_count": 19,
   "metadata": {},
   "outputs": [
    {
     "data": {
      "text/plain": [
       "RandomForestRegressor(max_depth=3, n_estimators=24, random_state=0)"
      ]
     },
     "execution_count": 19,
     "metadata": {},
     "output_type": "execute_result"
    }
   ],
   "source": [
    "best_Rf_model = ensemble.RandomForestRegressor(max_depth=3, n_estimators=24, random_state=0)\n",
    "best_Rf_model.fit(data_train, target_train)\n"
   ]
  },
  {
   "cell_type": "code",
   "execution_count": 20,
   "metadata": {},
   "outputs": [
    {
     "name": "stdout",
     "output_type": "stream",
     "text": [
      "The mean squared error (MSE) on test set: 0.8746\n"
     ]
    }
   ],
   "source": [
    "mse_3 = mean_squared_error(target_test, best_Rf_model.predict(data_test))\n",
    "print(\"The mean squared error (MSE) on test set: {:.4f}\".format(mse_3))"
   ]
  },
  {
   "cell_type": "markdown",
   "metadata": {},
   "source": [
    "Even with tuning of the parameters the RF model still not improving."
   ]
  },
  {
   "cell_type": "markdown",
   "metadata": {},
   "source": [
    "# Inclding categorical data :"
   ]
  },
  {
   "cell_type": "markdown",
   "metadata": {},
   "source": [
    "This part was inspired from : https://scikit-learn.org/stable/auto_examples/applications/plot_cyclical_feature_engineering.html#sphx-glr-auto-examples-applications-plot-cyclical-feature-engineering-py"
   ]
  },
  {
   "cell_type": "code",
   "execution_count": 21,
   "metadata": {},
   "outputs": [
    {
     "data": {
      "text/plain": [
       "dtype('<M8[ns]')"
      ]
     },
     "execution_count": 21,
     "metadata": {},
     "output_type": "execute_result"
    }
   ],
   "source": [
    "# Format flight_date to datetime :\n",
    "\n",
    "train_data['flight_date'] = train_data['flight_date'].astype('datetime64')\n",
    "train_data['flight_date'].dtype"
   ]
  },
  {
   "cell_type": "code",
   "execution_count": 22,
   "metadata": {},
   "outputs": [
    {
     "data": {
      "text/plain": [
       "array([2012, 2011])"
      ]
     },
     "execution_count": 22,
     "metadata": {},
     "output_type": "execute_result"
    }
   ],
   "source": [
    "# Add a year column :\n",
    "\n",
    "train_data['flight_year']= [ x.year for x in train_data['flight_date']]\n",
    "train_data['flight_year'].unique()"
   ]
  },
  {
   "cell_type": "code",
   "execution_count": 23,
   "metadata": {},
   "outputs": [],
   "source": [
    "# Make \"2011\" as year reference :\n",
    "\n",
    "train_data['flight_year'] = train_data['flight_year'] - 2011"
   ]
  },
  {
   "cell_type": "code",
   "execution_count": 24,
   "metadata": {},
   "outputs": [],
   "source": [
    "# Add a month column : \n",
    "\n",
    "train_data['flight_month']= [ x.month for x in train_data['flight_date']]"
   ]
  },
  {
   "cell_type": "code",
   "execution_count": 25,
   "metadata": {},
   "outputs": [],
   "source": [
    "# Add a weekday column and weekend binary variable :\n",
    "\n",
    "L = []\n",
    "L_days = []\n",
    "\n",
    "for x in train_data['flight_date'] :\n",
    "    d = x.weekday() \n",
    "    L_days.append(d)\n",
    "    \n",
    "    if d > 4 :\n",
    "        L.append(1)\n",
    "    else : \n",
    "        L.append(0)\n",
    "\n",
    "train_data['week_day'] = L_days\n",
    "train_data['weekend'] = L\n"
   ]
  },
  {
   "cell_type": "code",
   "execution_count": 27,
   "metadata": {},
   "outputs": [],
   "source": [
    "# Add a holiday variable :\n",
    "\n",
    "us_holidays = holidays.US()\n",
    "\n",
    "train_data['holiday'] = [x in us_holidays for x in train_data['flight_date']]"
   ]
  },
  {
   "cell_type": "code",
   "execution_count": 28,
   "metadata": {},
   "outputs": [],
   "source": [
    "# Drop flight_date variable :\n",
    "\n",
    "new_data = train_data.drop('flight_date', axis=1)"
   ]
  },
  {
   "cell_type": "markdown",
   "metadata": {},
   "source": [
    "### All in one : (date processing)"
   ]
  },
  {
   "cell_type": "code",
   "execution_count": 29,
   "metadata": {},
   "outputs": [],
   "source": [
    "def date_processing(dataset):\n",
    "    #Format\n",
    "    dataset['flight_date'] = dataset['flight_date'].astype('datetime64')\n",
    "    #Add year column \n",
    "    dataset['flight_year']= [ x.year for x in dataset['flight_date']]\n",
    "    #Add month column\n",
    "    dataset['flight_month']= [ x.month for x in dataset['flight_date']]\n",
    "    #Add work_day and weekend features \n",
    "    L = []\n",
    "    L_days = []\n",
    "\n",
    "    for x in dataset['flight_date'] :\n",
    "        d = x.weekday() \n",
    "        L_days.append(d)\n",
    "        \n",
    "        if d > 4 :\n",
    "            L.append(1)\n",
    "        else : \n",
    "            L.append(0)\n",
    "\n",
    "    dataset['week_day'] = L_days\n",
    "    dataset['weekend'] = L\n",
    "    #Add holiday variable \n",
    "    us_holidays = holidays.US()\n",
    "    dataset['holiday'] = [x in us_holidays for x in dataset['flight_date']]\n",
    "\n",
    "    return dataset.drop('flight_date', axis=1)"
   ]
  },
  {
   "cell_type": "code",
   "execution_count": 30,
   "metadata": {},
   "outputs": [
    {
     "data": {
      "text/html": [
       "<div>\n",
       "<style scoped>\n",
       "    .dataframe tbody tr th:only-of-type {\n",
       "        vertical-align: middle;\n",
       "    }\n",
       "\n",
       "    .dataframe tbody tr th {\n",
       "        vertical-align: top;\n",
       "    }\n",
       "\n",
       "    .dataframe thead th {\n",
       "        text-align: right;\n",
       "    }\n",
       "</style>\n",
       "<table border=\"1\" class=\"dataframe\">\n",
       "  <thead>\n",
       "    <tr style=\"text-align: right;\">\n",
       "      <th></th>\n",
       "      <th>from</th>\n",
       "      <th>to</th>\n",
       "      <th>avg_weeks</th>\n",
       "      <th>target</th>\n",
       "      <th>std_weeks</th>\n",
       "      <th>flight_year</th>\n",
       "      <th>flight_month</th>\n",
       "      <th>week_day</th>\n",
       "      <th>weekend</th>\n",
       "      <th>holiday</th>\n",
       "    </tr>\n",
       "  </thead>\n",
       "  <tbody>\n",
       "    <tr>\n",
       "      <th>0</th>\n",
       "      <td>ORD</td>\n",
       "      <td>DFW</td>\n",
       "      <td>12.875000</td>\n",
       "      <td>12.331296</td>\n",
       "      <td>9.812647</td>\n",
       "      <td>2012</td>\n",
       "      <td>6</td>\n",
       "      <td>1</td>\n",
       "      <td>0</td>\n",
       "      <td>False</td>\n",
       "    </tr>\n",
       "    <tr>\n",
       "      <th>1</th>\n",
       "      <td>LAS</td>\n",
       "      <td>DEN</td>\n",
       "      <td>14.285714</td>\n",
       "      <td>10.775182</td>\n",
       "      <td>9.466734</td>\n",
       "      <td>2012</td>\n",
       "      <td>9</td>\n",
       "      <td>0</td>\n",
       "      <td>0</td>\n",
       "      <td>False</td>\n",
       "    </tr>\n",
       "    <tr>\n",
       "      <th>2</th>\n",
       "      <td>DEN</td>\n",
       "      <td>LAX</td>\n",
       "      <td>10.863636</td>\n",
       "      <td>11.083177</td>\n",
       "      <td>9.035883</td>\n",
       "      <td>2012</td>\n",
       "      <td>10</td>\n",
       "      <td>4</td>\n",
       "      <td>0</td>\n",
       "      <td>False</td>\n",
       "    </tr>\n",
       "    <tr>\n",
       "      <th>3</th>\n",
       "      <td>ATL</td>\n",
       "      <td>ORD</td>\n",
       "      <td>11.480000</td>\n",
       "      <td>11.169268</td>\n",
       "      <td>7.990202</td>\n",
       "      <td>2011</td>\n",
       "      <td>10</td>\n",
       "      <td>6</td>\n",
       "      <td>1</td>\n",
       "      <td>False</td>\n",
       "    </tr>\n",
       "    <tr>\n",
       "      <th>4</th>\n",
       "      <td>DEN</td>\n",
       "      <td>SFO</td>\n",
       "      <td>11.450000</td>\n",
       "      <td>11.269364</td>\n",
       "      <td>9.517159</td>\n",
       "      <td>2012</td>\n",
       "      <td>2</td>\n",
       "      <td>1</td>\n",
       "      <td>0</td>\n",
       "      <td>False</td>\n",
       "    </tr>\n",
       "    <tr>\n",
       "      <th>...</th>\n",
       "      <td>...</td>\n",
       "      <td>...</td>\n",
       "      <td>...</td>\n",
       "      <td>...</td>\n",
       "      <td>...</td>\n",
       "      <td>...</td>\n",
       "      <td>...</td>\n",
       "      <td>...</td>\n",
       "      <td>...</td>\n",
       "      <td>...</td>\n",
       "    </tr>\n",
       "    <tr>\n",
       "      <th>8891</th>\n",
       "      <td>DEN</td>\n",
       "      <td>PHX</td>\n",
       "      <td>11.045455</td>\n",
       "      <td>9.795363</td>\n",
       "      <td>7.791798</td>\n",
       "      <td>2011</td>\n",
       "      <td>11</td>\n",
       "      <td>3</td>\n",
       "      <td>0</td>\n",
       "      <td>True</td>\n",
       "    </tr>\n",
       "    <tr>\n",
       "      <th>8892</th>\n",
       "      <td>ATL</td>\n",
       "      <td>DEN</td>\n",
       "      <td>11.000000</td>\n",
       "      <td>9.429776</td>\n",
       "      <td>7.937254</td>\n",
       "      <td>2012</td>\n",
       "      <td>9</td>\n",
       "      <td>5</td>\n",
       "      <td>1</td>\n",
       "      <td>False</td>\n",
       "    </tr>\n",
       "    <tr>\n",
       "      <th>8893</th>\n",
       "      <td>ORD</td>\n",
       "      <td>EWR</td>\n",
       "      <td>9.476190</td>\n",
       "      <td>12.029971</td>\n",
       "      <td>6.903760</td>\n",
       "      <td>2012</td>\n",
       "      <td>8</td>\n",
       "      <td>4</td>\n",
       "      <td>0</td>\n",
       "      <td>False</td>\n",
       "    </tr>\n",
       "    <tr>\n",
       "      <th>8894</th>\n",
       "      <td>ORD</td>\n",
       "      <td>IAH</td>\n",
       "      <td>10.250000</td>\n",
       "      <td>9.381645</td>\n",
       "      <td>7.107261</td>\n",
       "      <td>2012</td>\n",
       "      <td>7</td>\n",
       "      <td>1</td>\n",
       "      <td>0</td>\n",
       "      <td>False</td>\n",
       "    </tr>\n",
       "    <tr>\n",
       "      <th>8895</th>\n",
       "      <td>DFW</td>\n",
       "      <td>PHL</td>\n",
       "      <td>6.727273</td>\n",
       "      <td>8.076713</td>\n",
       "      <td>6.388911</td>\n",
       "      <td>2012</td>\n",
       "      <td>2</td>\n",
       "      <td>5</td>\n",
       "      <td>1</td>\n",
       "      <td>False</td>\n",
       "    </tr>\n",
       "  </tbody>\n",
       "</table>\n",
       "<p>8896 rows × 10 columns</p>\n",
       "</div>"
      ],
      "text/plain": [
       "     from   to  avg_weeks     target  std_weeks  flight_year  flight_month  \\\n",
       "0     ORD  DFW  12.875000  12.331296   9.812647         2012             6   \n",
       "1     LAS  DEN  14.285714  10.775182   9.466734         2012             9   \n",
       "2     DEN  LAX  10.863636  11.083177   9.035883         2012            10   \n",
       "3     ATL  ORD  11.480000  11.169268   7.990202         2011            10   \n",
       "4     DEN  SFO  11.450000  11.269364   9.517159         2012             2   \n",
       "...   ...  ...        ...        ...        ...          ...           ...   \n",
       "8891  DEN  PHX  11.045455   9.795363   7.791798         2011            11   \n",
       "8892  ATL  DEN  11.000000   9.429776   7.937254         2012             9   \n",
       "8893  ORD  EWR   9.476190  12.029971   6.903760         2012             8   \n",
       "8894  ORD  IAH  10.250000   9.381645   7.107261         2012             7   \n",
       "8895  DFW  PHL   6.727273   8.076713   6.388911         2012             2   \n",
       "\n",
       "      week_day  weekend  holiday  \n",
       "0            1        0    False  \n",
       "1            0        0    False  \n",
       "2            4        0    False  \n",
       "3            6        1    False  \n",
       "4            1        0    False  \n",
       "...        ...      ...      ...  \n",
       "8891         3        0     True  \n",
       "8892         5        1    False  \n",
       "8893         4        0    False  \n",
       "8894         1        0    False  \n",
       "8895         5        1    False  \n",
       "\n",
       "[8896 rows x 10 columns]"
      ]
     },
     "execution_count": 30,
     "metadata": {},
     "output_type": "execute_result"
    }
   ],
   "source": [
    "new_data = date_processing(train_data)\n",
    "new_data"
   ]
  },
  {
   "cell_type": "code",
   "execution_count": 31,
   "metadata": {},
   "outputs": [
    {
     "data": {
      "text/plain": [
       "array(['ORD', 'LAS', 'DEN', 'ATL', 'SFO', 'EWR', 'IAH', 'LAX', 'JFK',\n",
       "       'PHL', 'SEA', 'MIA', 'BOS', 'DFW', 'MSP', 'CLT', 'MCO', 'PHX',\n",
       "       'DTW', 'LGA'], dtype=object)"
      ]
     },
     "execution_count": 31,
     "metadata": {},
     "output_type": "execute_result"
    }
   ],
   "source": [
    "new_data['from'].unique()"
   ]
  },
  {
   "cell_type": "code",
   "execution_count": 32,
   "metadata": {},
   "outputs": [
    {
     "data": {
      "text/plain": [
       "array(['DFW', 'DEN', 'LAX', 'ORD', 'SFO', 'LAS', 'CLT', 'MSP', 'PHX',\n",
       "       'MCO', 'DTW', 'MIA', 'BOS', 'PHL', 'JFK', 'EWR', 'ATL', 'LGA',\n",
       "       'SEA', 'IAH'], dtype=object)"
      ]
     },
     "execution_count": 32,
     "metadata": {},
     "output_type": "execute_result"
    }
   ],
   "source": [
    "new_data['to'].unique()"
   ]
  },
  {
   "cell_type": "code",
   "execution_count": 33,
   "metadata": {},
   "outputs": [],
   "source": [
    "X = new_data.drop(\"target\", axis=1)\n",
    "y = new_data['target']"
   ]
  },
  {
   "cell_type": "code",
   "execution_count": 34,
   "metadata": {},
   "outputs": [],
   "source": [
    "# Prepare for a Time series CV :\n",
    "\n",
    "\n",
    "ts_cv = TimeSeriesSplit(\n",
    "    n_splits=5,\n",
    "    gap=48,\n",
    "    max_train_size=7800,\n",
    "    test_size=1000,\n",
    ")"
   ]
  },
  {
   "cell_type": "code",
   "execution_count": 35,
   "metadata": {},
   "outputs": [],
   "source": [
    "all_splits = list(ts_cv.split(X, y))\n",
    "train_0, test_0 = all_splits[0]"
   ]
  },
  {
   "cell_type": "code",
   "execution_count": 36,
   "metadata": {},
   "outputs": [
    {
     "data": {
      "text/html": [
       "<div>\n",
       "<style scoped>\n",
       "    .dataframe tbody tr th:only-of-type {\n",
       "        vertical-align: middle;\n",
       "    }\n",
       "\n",
       "    .dataframe tbody tr th {\n",
       "        vertical-align: top;\n",
       "    }\n",
       "\n",
       "    .dataframe thead th {\n",
       "        text-align: right;\n",
       "    }\n",
       "</style>\n",
       "<table border=\"1\" class=\"dataframe\">\n",
       "  <thead>\n",
       "    <tr style=\"text-align: right;\">\n",
       "      <th></th>\n",
       "      <th>from</th>\n",
       "      <th>to</th>\n",
       "      <th>avg_weeks</th>\n",
       "      <th>std_weeks</th>\n",
       "      <th>flight_year</th>\n",
       "      <th>flight_month</th>\n",
       "      <th>week_day</th>\n",
       "      <th>weekend</th>\n",
       "      <th>holiday</th>\n",
       "    </tr>\n",
       "  </thead>\n",
       "  <tbody>\n",
       "    <tr>\n",
       "      <th>3896</th>\n",
       "      <td>LGA</td>\n",
       "      <td>BOS</td>\n",
       "      <td>8.812500</td>\n",
       "      <td>8.463402</td>\n",
       "      <td>2012</td>\n",
       "      <td>9</td>\n",
       "      <td>1</td>\n",
       "      <td>0</td>\n",
       "      <td>False</td>\n",
       "    </tr>\n",
       "    <tr>\n",
       "      <th>3897</th>\n",
       "      <td>ORD</td>\n",
       "      <td>DFW</td>\n",
       "      <td>10.700000</td>\n",
       "      <td>7.692101</td>\n",
       "      <td>2012</td>\n",
       "      <td>1</td>\n",
       "      <td>0</td>\n",
       "      <td>0</td>\n",
       "      <td>False</td>\n",
       "    </tr>\n",
       "    <tr>\n",
       "      <th>3898</th>\n",
       "      <td>LAX</td>\n",
       "      <td>LAS</td>\n",
       "      <td>18.666667</td>\n",
       "      <td>12.196018</td>\n",
       "      <td>2012</td>\n",
       "      <td>10</td>\n",
       "      <td>2</td>\n",
       "      <td>0</td>\n",
       "      <td>False</td>\n",
       "    </tr>\n",
       "    <tr>\n",
       "      <th>3899</th>\n",
       "      <td>DEN</td>\n",
       "      <td>LAS</td>\n",
       "      <td>12.208333</td>\n",
       "      <td>8.890538</td>\n",
       "      <td>2011</td>\n",
       "      <td>12</td>\n",
       "      <td>5</td>\n",
       "      <td>1</td>\n",
       "      <td>False</td>\n",
       "    </tr>\n",
       "    <tr>\n",
       "      <th>3900</th>\n",
       "      <td>BOS</td>\n",
       "      <td>LAX</td>\n",
       "      <td>12.923077</td>\n",
       "      <td>8.332697</td>\n",
       "      <td>2011</td>\n",
       "      <td>9</td>\n",
       "      <td>6</td>\n",
       "      <td>1</td>\n",
       "      <td>False</td>\n",
       "    </tr>\n",
       "    <tr>\n",
       "      <th>...</th>\n",
       "      <td>...</td>\n",
       "      <td>...</td>\n",
       "      <td>...</td>\n",
       "      <td>...</td>\n",
       "      <td>...</td>\n",
       "      <td>...</td>\n",
       "      <td>...</td>\n",
       "      <td>...</td>\n",
       "      <td>...</td>\n",
       "    </tr>\n",
       "    <tr>\n",
       "      <th>4891</th>\n",
       "      <td>BOS</td>\n",
       "      <td>ORD</td>\n",
       "      <td>8.611111</td>\n",
       "      <td>5.542763</td>\n",
       "      <td>2012</td>\n",
       "      <td>4</td>\n",
       "      <td>4</td>\n",
       "      <td>0</td>\n",
       "      <td>False</td>\n",
       "    </tr>\n",
       "    <tr>\n",
       "      <th>4892</th>\n",
       "      <td>EWR</td>\n",
       "      <td>MCO</td>\n",
       "      <td>16.032258</td>\n",
       "      <td>10.264774</td>\n",
       "      <td>2011</td>\n",
       "      <td>10</td>\n",
       "      <td>5</td>\n",
       "      <td>1</td>\n",
       "      <td>False</td>\n",
       "    </tr>\n",
       "    <tr>\n",
       "      <th>4893</th>\n",
       "      <td>SFO</td>\n",
       "      <td>EWR</td>\n",
       "      <td>12.909091</td>\n",
       "      <td>10.618533</td>\n",
       "      <td>2012</td>\n",
       "      <td>1</td>\n",
       "      <td>0</td>\n",
       "      <td>0</td>\n",
       "      <td>False</td>\n",
       "    </tr>\n",
       "    <tr>\n",
       "      <th>4894</th>\n",
       "      <td>DTW</td>\n",
       "      <td>ORD</td>\n",
       "      <td>9.631579</td>\n",
       "      <td>6.775860</td>\n",
       "      <td>2012</td>\n",
       "      <td>1</td>\n",
       "      <td>3</td>\n",
       "      <td>0</td>\n",
       "      <td>False</td>\n",
       "    </tr>\n",
       "    <tr>\n",
       "      <th>4895</th>\n",
       "      <td>JFK</td>\n",
       "      <td>LAX</td>\n",
       "      <td>17.513514</td>\n",
       "      <td>11.500294</td>\n",
       "      <td>2012</td>\n",
       "      <td>7</td>\n",
       "      <td>4</td>\n",
       "      <td>0</td>\n",
       "      <td>False</td>\n",
       "    </tr>\n",
       "  </tbody>\n",
       "</table>\n",
       "<p>1000 rows × 9 columns</p>\n",
       "</div>"
      ],
      "text/plain": [
       "     from   to  avg_weeks  std_weeks  flight_year  flight_month  week_day  \\\n",
       "3896  LGA  BOS   8.812500   8.463402         2012             9         1   \n",
       "3897  ORD  DFW  10.700000   7.692101         2012             1         0   \n",
       "3898  LAX  LAS  18.666667  12.196018         2012            10         2   \n",
       "3899  DEN  LAS  12.208333   8.890538         2011            12         5   \n",
       "3900  BOS  LAX  12.923077   8.332697         2011             9         6   \n",
       "...   ...  ...        ...        ...          ...           ...       ...   \n",
       "4891  BOS  ORD   8.611111   5.542763         2012             4         4   \n",
       "4892  EWR  MCO  16.032258  10.264774         2011            10         5   \n",
       "4893  SFO  EWR  12.909091  10.618533         2012             1         0   \n",
       "4894  DTW  ORD   9.631579   6.775860         2012             1         3   \n",
       "4895  JFK  LAX  17.513514  11.500294         2012             7         4   \n",
       "\n",
       "      weekend  holiday  \n",
       "3896        0    False  \n",
       "3897        0    False  \n",
       "3898        0    False  \n",
       "3899        1    False  \n",
       "3900        1    False  \n",
       "...       ...      ...  \n",
       "4891        0    False  \n",
       "4892        1    False  \n",
       "4893        0    False  \n",
       "4894        0    False  \n",
       "4895        0    False  \n",
       "\n",
       "[1000 rows x 9 columns]"
      ]
     },
     "execution_count": 36,
     "metadata": {},
     "output_type": "execute_result"
    }
   ],
   "source": [
    "X.iloc[test_0]"
   ]
  },
  {
   "cell_type": "code",
   "execution_count": 37,
   "metadata": {},
   "outputs": [],
   "source": [
    "# Encoding of the  categorical Data :\n",
    "\n",
    "\n",
    "categorical_columns = [\n",
    "    \"from\",\n",
    "    \"to\",\n",
    "    \"holiday\",\n",
    "]\n",
    "categories = [\n",
    "    ['ORD', 'LAS', 'DEN', 'ATL', 'SFO', 'EWR', 'IAH', 'LAX', 'JFK',\n",
    "       'PHL', 'SEA', 'MIA', 'BOS', 'DFW', 'MSP', 'CLT', 'MCO', 'PHX',\n",
    "       'DTW', 'LGA'],\n",
    "    ['DFW', 'DEN', 'LAX', 'ORD', 'SFO', 'LAS', 'CLT', 'MSP', 'PHX',\n",
    "       'MCO', 'DTW', 'MIA', 'BOS', 'PHL', 'JFK', 'EWR', 'ATL', 'LGA',\n",
    "       'SEA', 'IAH'],\n",
    "    [\"False\", \"True\"],\n",
    "]\n",
    "ordinal_encoder = OrdinalEncoder(categories=categories)"
   ]
  },
  {
   "cell_type": "code",
   "execution_count": 38,
   "metadata": {},
   "outputs": [],
   "source": [
    "# Evalluation function :\n",
    "\n",
    "def evaluate(model, X, y, cv):\n",
    "    cv_results = cross_validate(\n",
    "        model,\n",
    "        X,\n",
    "        y,\n",
    "        cv=cv,\n",
    "        scoring=[\"neg_mean_absolute_error\", \"neg_root_mean_squared_error\"],\n",
    "    )\n",
    "    mae = -cv_results[\"test_neg_mean_absolute_error\"]\n",
    "    rmse = -cv_results[\"test_neg_root_mean_squared_error\"]\n",
    "    print(\n",
    "        f\"Mean Absolute Error:     {mae.mean():.3f} +/- {mae.std():.3f}\\n\"\n",
    "        f\"Root Mean Squared Error: {rmse.mean():.3f} +/- {rmse.std():.3f}\"\n",
    "    )\n"
   ]
  },
  {
   "cell_type": "markdown",
   "metadata": {},
   "source": [
    "### Ridge Model :"
   ]
  },
  {
   "cell_type": "code",
   "execution_count": 86,
   "metadata": {},
   "outputs": [
    {
     "name": "stdout",
     "output_type": "stream",
     "text": [
      "Mean Absolute Error:     0.552 +/- 0.014\n",
      "Root Mean Squared Error: 0.710 +/- 0.026\n"
     ]
    }
   ],
   "source": [
    "one_hot_encoder = OneHotEncoder(handle_unknown=\"ignore\", sparse=False)\n",
    "alphas = np.logspace(-6, 6, 25)\n",
    "\n",
    "# Model Pipelline : \n",
    "naive_linear_pipeline = make_pipeline(\n",
    "    ColumnTransformer(\n",
    "        transformers=[\n",
    "            (\"categorical\", one_hot_encoder, categorical_columns),\n",
    "        ],\n",
    "        remainder=MinMaxScaler(),\n",
    "    ),\n",
    "    RidgeCV(alphas=alphas),\n",
    ")\n",
    "\n",
    "\n",
    "evaluate(naive_linear_pipeline, X, y, cv=ts_cv)"
   ]
  },
  {
   "cell_type": "markdown",
   "metadata": {},
   "source": [
    "### Histogram-based Gradient Boosting :"
   ]
  },
  {
   "cell_type": "code",
   "execution_count": 41,
   "metadata": {},
   "outputs": [
    {
     "name": "stdout",
     "output_type": "stream",
     "text": [
      "Mean Absolute Error:     0.336 +/- 0.014\n",
      "Root Mean Squared Error: 0.464 +/- 0.023\n"
     ]
    }
   ],
   "source": [
    "# Model Pipelline : \n",
    "\n",
    "gbrt_pipeline = make_pipeline(\n",
    "    ColumnTransformer(\n",
    "        transformers=[\n",
    "            (\"categorical\", one_hot_encoder, categorical_columns),\n",
    "        ],\n",
    "        remainder=MinMaxScaler(),\n",
    "    ),\n",
    "    HistGradientBoostingRegressor(\n",
    "        categorical_features=range(3),\n",
    "    ),\n",
    ")\n",
    "\n",
    "\n",
    "evaluate(gbrt_pipeline, X, y, cv=ts_cv)"
   ]
  },
  {
   "cell_type": "code",
   "execution_count": 87,
   "metadata": {},
   "outputs": [
    {
     "name": "stdout",
     "output_type": "stream",
     "text": [
      "Mean Absolute Error:     0.622 +/- 0.012\n",
      "Root Mean Squared Error: 0.791 +/- 0.021\n"
     ]
    }
   ],
   "source": [
    "# Model Pipelline : \n",
    "\n",
    "adaboost_pipeline = make_pipeline(\n",
    "    ColumnTransformer(\n",
    "        transformers=[\n",
    "            (\"categorical\", one_hot_encoder, categorical_columns),\n",
    "        ],\n",
    "        remainder=MinMaxScaler(),\n",
    "    ),\n",
    "    AdaBoostRegressor(),\n",
    ")\n",
    "\n",
    "\n",
    "evaluate(adaboost_pipeline, X, y, cv=ts_cv)"
   ]
  },
  {
   "cell_type": "markdown",
   "metadata": {},
   "source": [
    "## With Sin & Cos transformations :"
   ]
  },
  {
   "cell_type": "code",
   "execution_count": 43,
   "metadata": {},
   "outputs": [],
   "source": [
    "# Define transformations :\n",
    "\n",
    "def sin_transformer(period):\n",
    "    return FunctionTransformer(lambda x: np.sin(x / period * 2 * np.pi))\n",
    "\n",
    "\n",
    "def cos_transformer(period):\n",
    "    return FunctionTransformer(lambda x: np.cos(x / period * 2 * np.pi))"
   ]
  },
  {
   "cell_type": "code",
   "execution_count": 44,
   "metadata": {},
   "outputs": [
    {
     "name": "stdout",
     "output_type": "stream",
     "text": [
      "Mean Absolute Error:     0.546 +/- 0.016\n",
      "Root Mean Squared Error: 0.703 +/- 0.027\n"
     ]
    }
   ],
   "source": [
    "cyclic_cossin_transformer = ColumnTransformer(\n",
    "    transformers=[\n",
    "        (\"categorical\", one_hot_encoder, categorical_columns),\n",
    "        (\"month_sin\", sin_transformer(12), [\"flight_month\"]),\n",
    "        (\"month_cos\", cos_transformer(12), [\"flight_month\"]),\n",
    "        (\"weekday_sin\", sin_transformer(7), [\"week_day\"]),\n",
    "        (\"weekday_cos\", cos_transformer(7), [\"week_day\"]),\n",
    "    ],\n",
    "    remainder=MinMaxScaler(),\n",
    ")\n",
    "cyclic_cossin_linear_pipeline = make_pipeline(\n",
    "    cyclic_cossin_transformer,\n",
    "    RidgeCV(alphas=alphas),\n",
    ")\n",
    "evaluate(cyclic_cossin_linear_pipeline, X, y, cv=ts_cv)"
   ]
  },
  {
   "cell_type": "code",
   "execution_count": 45,
   "metadata": {},
   "outputs": [
    {
     "name": "stdout",
     "output_type": "stream",
     "text": [
      "Mean Absolute Error:     0.332 +/- 0.014\n",
      "Root Mean Squared Error: 0.458 +/- 0.024\n"
     ]
    }
   ],
   "source": [
    "hgb_cossin_pipeline = make_pipeline(\n",
    "    cyclic_cossin_transformer,\n",
    "    HistGradientBoostingRegressor(\n",
    "        categorical_features=range(3),\n",
    "    ),\n",
    ")\n",
    "evaluate(hgb_cossin_pipeline, X, y, cv=ts_cv)"
   ]
  },
  {
   "cell_type": "code",
   "execution_count": 46,
   "metadata": {},
   "outputs": [
    {
     "name": "stdout",
     "output_type": "stream",
     "text": [
      "Mean Absolute Error:     0.616 +/- 0.017\n",
      "Root Mean Squared Error: 0.784 +/- 0.025\n"
     ]
    }
   ],
   "source": [
    "adabosst_cossin_pipeline = make_pipeline(\n",
    "    cyclic_cossin_transformer,\n",
    "    AdaBoostRegressor(),\n",
    ")\n",
    "evaluate(adabosst_cossin_pipeline, X, y, cv=ts_cv)"
   ]
  },
  {
   "cell_type": "markdown",
   "metadata": {},
   "source": [
    "## Spline Transformation :"
   ]
  },
  {
   "cell_type": "code",
   "execution_count": 91,
   "metadata": {},
   "outputs": [],
   "source": [
    "from sklearn.preprocessing import SplineTransformer\n",
    "\n",
    "\n",
    "def periodic_spline_transformer(period, n_splines=None, degree=3):\n",
    "    if n_splines is None:\n",
    "        n_splines = period\n",
    "    n_knots = n_splines + 1  # periodic and include_bias is True\n",
    "    return SplineTransformer(\n",
    "        degree=degree,\n",
    "        n_knots=n_knots,\n",
    "        knots=np.linspace(0, period, n_knots).reshape(n_knots, 1),\n",
    "        extrapolation=\"periodic\",\n",
    "        include_bias=True,\n",
    "    )"
   ]
  },
  {
   "cell_type": "code",
   "execution_count": 94,
   "metadata": {},
   "outputs": [
    {
     "data": {
      "application/vnd.code.notebook.stdout": [
       "Mean Absolute Error:     0.540 +/- 0.015\n",
       "Root Mean Squared Error: 0.692 +/- 0.027\n"
      ]
     },
     "output_type": "unknown"
    }
   ],
   "source": [
    "cyclic_spline_transformer = ColumnTransformer(\n",
    "    transformers=[\n",
    "        (\"categorical\", one_hot_encoder, categorical_columns),\n",
    "        (\"cyclic_month\", periodic_spline_transformer(12, n_splines=6), [\"flight_month\"]),\n",
    "        (\"cyclic_weekday\", periodic_spline_transformer(7, n_splines=3), [\"week_day\"]),\n",
    "    ],\n",
    "    remainder=MinMaxScaler(),\n",
    ")\n",
    "cyclic_spline_linear_pipeline = make_pipeline(\n",
    "    cyclic_spline_transformer,\n",
    "    RidgeCV(alphas=alphas),\n",
    ")\n",
    "evaluate(cyclic_spline_linear_pipeline, X, y, cv=ts_cv)"
   ]
  },
  {
   "cell_type": "code",
   "execution_count": 99,
   "metadata": {},
   "outputs": [
    {
     "name": "stdout",
     "output_type": "stream",
     "text": [
      "Mean Absolute Error:     0.329 +/- 0.013\n",
      "Root Mean Squared Error: 0.456 +/- 0.024\n"
     ]
    }
   ],
   "source": [
    "hgb_spline_pipeline = make_pipeline(\n",
    "    cyclic_spline_transformer,\n",
    "    HistGradientBoostingRegressor(\n",
    "        categorical_features=range(3),\n",
    "    ),\n",
    ")\n",
    "evaluate(hgb_spline_pipeline, X, y, cv=ts_cv)"
   ]
  },
  {
   "cell_type": "code",
   "execution_count": 96,
   "metadata": {},
   "outputs": [
    {
     "data": {
      "application/vnd.code.notebook.stdout": [
       "Mean Absolute Error:     0.615 +/- 0.015\n",
       "Root Mean Squared Error: 0.782 +/- 0.022\n"
      ]
     },
     "output_type": "unknown"
    }
   ],
   "source": [
    "adabosst_spline_pipeline = make_pipeline(\n",
    "    cyclic_spline_transformer,\n",
    "    AdaBoostRegressor(),\n",
    ")\n",
    "evaluate(adabosst_spline_pipeline, X, y, cv=ts_cv)"
   ]
  },
  {
   "cell_type": "markdown",
   "metadata": {},
   "source": [
    "## Adding Kernels :"
   ]
  },
  {
   "cell_type": "code",
   "execution_count": 47,
   "metadata": {},
   "outputs": [
    {
     "name": "stdout",
     "output_type": "stream",
     "text": [
      "Mean Absolute Error:     0.520 +/- 0.015\n",
      "Root Mean Squared Error: 0.674 +/- 0.021\n"
     ]
    }
   ],
   "source": [
    "cyclic_cossin_transformer = ColumnTransformer(\n",
    "    transformers=[\n",
    "        (\"categorical\", one_hot_encoder, categorical_columns),\n",
    "        (\"month_sin\", sin_transformer(12), [\"flight_month\"]),\n",
    "        (\"month_cos\", cos_transformer(12), [\"flight_month\"]),\n",
    "        (\"weekday_sin\", sin_transformer(7), [\"week_day\"]),\n",
    "        (\"weekday_cos\", cos_transformer(7), [\"week_day\"]),\n",
    "    ],\n",
    "    remainder=\"passthrough\",)\n",
    "\n",
    "cyclic_spline_poly_pipeline = make_pipeline(\n",
    "    cyclic_cossin_transformer,\n",
    "    Nystroem(),\n",
    "    RidgeCV(alphas=alphas),\n",
    ")\n",
    "evaluate(cyclic_spline_poly_pipeline, X, y, cv=ts_cv)"
   ]
  },
  {
   "cell_type": "markdown",
   "metadata": {},
   "source": [
    "define params of Nystreom :"
   ]
  },
  {
   "cell_type": "code",
   "execution_count": 48,
   "metadata": {},
   "outputs": [
    {
     "name": "stdout",
     "output_type": "stream",
     "text": [
      "Mean Absolute Error:     0.396 +/- 0.018\n",
      "Root Mean Squared Error: 0.536 +/- 0.032\n"
     ]
    }
   ],
   "source": [
    "cyclic_spline_poly_pipeline = make_pipeline(\n",
    "    cyclic_cossin_transformer,\n",
    "    Nystroem(kernel=\"poly\", degree=2, n_components=300, random_state=0),\n",
    "    RidgeCV(alphas=alphas),\n",
    ")\n",
    "evaluate(cyclic_spline_poly_pipeline, X, y, cv=ts_cv)"
   ]
  },
  {
   "cell_type": "code",
   "execution_count": 49,
   "metadata": {},
   "outputs": [
    {
     "name": "stdout",
     "output_type": "stream",
     "text": [
      "Mean Absolute Error:     0.404 +/- 0.014\n",
      "Root Mean Squared Error: 0.539 +/- 0.024\n"
     ]
    }
   ],
   "source": [
    "# Model Pipeline :\n",
    "\n",
    "hgb_poly_pipeline = make_pipeline(\n",
    "    cyclic_cossin_transformer,\n",
    "    Nystroem(kernel=\"poly\", degree=2, n_components=300, random_state=0),\n",
    "    HistGradientBoostingRegressor(\n",
    "    ),\n",
    ")\n",
    "evaluate(hgb_poly_pipeline, X, y, cv=ts_cv)"
   ]
  },
  {
   "cell_type": "code",
   "execution_count": 50,
   "metadata": {},
   "outputs": [
    {
     "name": "stdout",
     "output_type": "stream",
     "text": [
      "Mean Absolute Error:     0.622 +/- 0.012\n",
      "Root Mean Squared Error: 0.783 +/- 0.021\n"
     ]
    }
   ],
   "source": [
    "# Model Pipeline :\n",
    "\n",
    "adabosst_poly_pipeline = make_pipeline(\n",
    "    cyclic_cossin_transformer,\n",
    "    Nystroem(kernel=\"poly\", degree=2, n_components=300, random_state=0),\n",
    "    AdaBoostRegressor(),\n",
    ")\n",
    "evaluate(adabosst_poly_pipeline, X, y, cv=ts_cv)"
   ]
  },
  {
   "cell_type": "code",
   "execution_count": 66,
   "metadata": {},
   "outputs": [],
   "source": [
    "hgb_poly_pipeline.fit(X.iloc[train_0], y.iloc[train_0])\n",
    "hgb_poly__predictions = hgb_poly_pipeline.predict(X.iloc[test_0])\n",
    "\n",
    "adabosst_poly_pipeline.fit(X.iloc[train_0], y.iloc[train_0])\n",
    "adabosst_poly_predictions = adabosst_poly_pipeline.predict(X.iloc[test_0])\n",
    "\n",
    "cyclic_spline_poly_pipeline.fit(X.iloc[train_0], y.iloc[train_0])\n",
    "cyclic_spline_poly_predictions = cyclic_spline_poly_pipeline.predict(X.iloc[test_0])"
   ]
  },
  {
   "cell_type": "code",
   "execution_count": 69,
   "metadata": {},
   "outputs": [
    {
     "data": {
      "image/png": "[encoded data removed]",
      "text/plain": [
       "<Figure size 864x288 with 1 Axes>"
      ]
     },
     "metadata": {
      "needs_background": "light"
     },
     "output_type": "display_data"
    }
   ],
   "source": [
    "last_hours = slice(-96, None)\n",
    "fig, ax = plt.subplots(figsize=(12, 4))\n",
    "fig.suptitle(\"Predictions by non-linear regression models\")\n",
    "ax.plot(\n",
    "    y.iloc[test_0].values[last_hours],\n",
    "    \"x-\",\n",
    "    alpha=0.2,\n",
    "    label=\"Actual demand\",\n",
    "    color=\"black\",\n",
    ")\n",
    "ax.plot(\n",
    "    cyclic_spline_poly_predictions[last_hours],\n",
    "    \"x-\",\n",
    "    label=\"One-hot + polynomial kernel\",\n",
    ")\n",
    "ax.plot(\n",
    "    hgb_poly__predictions[last_hours],\n",
    "    \"x-\",\n",
    "    label=\"Gradient boosted Trees\",\n",
    ")\n",
    "ax.plot(\n",
    "    adabosst_poly_predictions[last_hours],\n",
    "    \"x-\",\n",
    "    label=\"adaboost + polynomial kernel\",\n",
    ")\n",
    "_ = ax.legend()"
   ]
  },
  {
   "cell_type": "markdown",
   "metadata": {},
   "source": [
    "### Make Predictions :"
   ]
  },
  {
   "cell_type": "code",
   "execution_count": 57,
   "metadata": {},
   "outputs": [],
   "source": [
    "# Train & Test split :\n",
    "\n",
    "X_train, X_test, y_train, y_test = train_test_split(X, y, test_size=0.3, random_state=101)"
   ]
  },
  {
   "cell_type": "code",
   "execution_count": 58,
   "metadata": {},
   "outputs": [
    {
     "data": {
      "text/plain": [
       "array([11.75877944, 11.08791675, 11.91803562, ..., 11.29732911,\n",
       "       10.40674122, 12.06195843])"
      ]
     },
     "execution_count": 58,
     "metadata": {},
     "output_type": "execute_result"
    }
   ],
   "source": [
    "# Fit and Predict : Model 1\n",
    "\n",
    "naive_linear_pipeline.fit(X_train, y_train)\n",
    "naive_linear_pipeline.predict(X_test)\n"
   ]
  },
  {
   "cell_type": "code",
   "execution_count": 59,
   "metadata": {},
   "outputs": [
    {
     "data": {
      "text/plain": [
       "array([12.663029  , 11.22908945, 12.11938247, ..., 11.06190409,\n",
       "        9.51134674, 12.67291079])"
      ]
     },
     "execution_count": 59,
     "metadata": {},
     "output_type": "execute_result"
    }
   ],
   "source": [
    "# Fit and Predict : Model 2\n",
    "\n",
    "gbrt_pipeline.fit(X_train, y_train)\n",
    "gbrt_pipeline.predict(X_test)"
   ]
  },
  {
   "cell_type": "code",
   "execution_count": 60,
   "metadata": {},
   "outputs": [
    {
     "data": {
      "text/html": [
       "<div>\n",
       "<style scoped>\n",
       "    .dataframe tbody tr th:only-of-type {\n",
       "        vertical-align: middle;\n",
       "    }\n",
       "\n",
       "    .dataframe tbody tr th {\n",
       "        vertical-align: top;\n",
       "    }\n",
       "\n",
       "    .dataframe thead th {\n",
       "        text-align: right;\n",
       "    }\n",
       "</style>\n",
       "<table border=\"1\" class=\"dataframe\">\n",
       "  <thead>\n",
       "    <tr style=\"text-align: right;\">\n",
       "      <th></th>\n",
       "      <th>from</th>\n",
       "      <th>to</th>\n",
       "      <th>avg_weeks</th>\n",
       "      <th>std_weeks</th>\n",
       "      <th>flight_year</th>\n",
       "      <th>flight_month</th>\n",
       "      <th>week_day</th>\n",
       "      <th>weekend</th>\n",
       "      <th>holiday</th>\n",
       "      <th>predicted-value</th>\n",
       "      <th>expected-value</th>\n",
       "      <th>Difference</th>\n",
       "    </tr>\n",
       "  </thead>\n",
       "  <tbody>\n",
       "    <tr>\n",
       "      <th>1190</th>\n",
       "      <td>BOS</td>\n",
       "      <td>LGA</td>\n",
       "      <td>8.941176</td>\n",
       "      <td>6.959441</td>\n",
       "      <td>2012</td>\n",
       "      <td>6</td>\n",
       "      <td>0</td>\n",
       "      <td>0</td>\n",
       "      <td>False</td>\n",
       "      <td>12.663029</td>\n",
       "      <td>12.955942</td>\n",
       "      <td>-0.292913</td>\n",
       "    </tr>\n",
       "    <tr>\n",
       "      <th>8753</th>\n",
       "      <td>ATL</td>\n",
       "      <td>EWR</td>\n",
       "      <td>11.150000</td>\n",
       "      <td>9.493904</td>\n",
       "      <td>2012</td>\n",
       "      <td>9</td>\n",
       "      <td>0</td>\n",
       "      <td>0</td>\n",
       "      <td>False</td>\n",
       "      <td>11.229089</td>\n",
       "      <td>11.743956</td>\n",
       "      <td>-0.514867</td>\n",
       "    </tr>\n",
       "    <tr>\n",
       "      <th>4632</th>\n",
       "      <td>ORD</td>\n",
       "      <td>ATL</td>\n",
       "      <td>10.904762</td>\n",
       "      <td>9.202743</td>\n",
       "      <td>2012</td>\n",
       "      <td>9</td>\n",
       "      <td>3</td>\n",
       "      <td>0</td>\n",
       "      <td>False</td>\n",
       "      <td>12.119382</td>\n",
       "      <td>11.623364</td>\n",
       "      <td>0.496018</td>\n",
       "    </tr>\n",
       "    <tr>\n",
       "      <th>200</th>\n",
       "      <td>ORD</td>\n",
       "      <td>IAH</td>\n",
       "      <td>11.863636</td>\n",
       "      <td>8.322634</td>\n",
       "      <td>2012</td>\n",
       "      <td>2</td>\n",
       "      <td>3</td>\n",
       "      <td>0</td>\n",
       "      <td>False</td>\n",
       "      <td>10.927591</td>\n",
       "      <td>11.506174</td>\n",
       "      <td>-0.578583</td>\n",
       "    </tr>\n",
       "    <tr>\n",
       "      <th>6698</th>\n",
       "      <td>SFO</td>\n",
       "      <td>ORD</td>\n",
       "      <td>14.923077</td>\n",
       "      <td>11.481892</td>\n",
       "      <td>2011</td>\n",
       "      <td>12</td>\n",
       "      <td>5</td>\n",
       "      <td>1</td>\n",
       "      <td>False</td>\n",
       "      <td>10.517501</td>\n",
       "      <td>9.567137</td>\n",
       "      <td>0.950364</td>\n",
       "    </tr>\n",
       "  </tbody>\n",
       "</table>\n",
       "</div>"
      ],
      "text/plain": [
       "     from   to  avg_weeks  std_weeks  flight_year  flight_month  week_day  \\\n",
       "1190  BOS  LGA   8.941176   6.959441         2012             6         0   \n",
       "8753  ATL  EWR  11.150000   9.493904         2012             9         0   \n",
       "4632  ORD  ATL  10.904762   9.202743         2012             9         3   \n",
       "200   ORD  IAH  11.863636   8.322634         2012             2         3   \n",
       "6698  SFO  ORD  14.923077  11.481892         2011            12         5   \n",
       "\n",
       "      weekend  holiday  predicted-value  expected-value  Difference  \n",
       "1190        0    False        12.663029       12.955942   -0.292913  \n",
       "8753        0    False        11.229089       11.743956   -0.514867  \n",
       "4632        0    False        12.119382       11.623364    0.496018  \n",
       "200         0    False        10.927591       11.506174   -0.578583  \n",
       "6698        1    False        10.517501        9.567137    0.950364  "
      ]
     },
     "execution_count": 60,
     "metadata": {},
     "output_type": "execute_result"
    }
   ],
   "source": [
    "target_predicted = gbrt_pipeline.predict(X_test)\n",
    "predictions = X_test.copy()\n",
    "predictions['predicted-value'] = target_predicted\n",
    "predictions['expected-value'] = y_test\n",
    "predictions['Difference'] = target_predicted - y_test\n",
    "predictions.head()"
   ]
  },
  {
   "cell_type": "code",
   "execution_count": 61,
   "metadata": {},
   "outputs": [
    {
     "name": "stdout",
     "output_type": "stream",
     "text": [
      "The mean squared error (MSE) on test set: 0.2211\n"
     ]
    }
   ],
   "source": [
    "mse_4 = mean_squared_error(y_test, target_predicted)\n",
    "print(\"The mean squared error (MSE) on test set: {:.4f}\".format(mse_4))"
   ]
  },
  {
   "cell_type": "code",
   "execution_count": 62,
   "metadata": {},
   "outputs": [
    {
     "name": "stdout",
     "output_type": "stream",
     "text": [
      "The test accuracy using a Pipeline is 0.768\n"
     ]
    }
   ],
   "source": [
    "print(\n",
    "    f\"The test accuracy using a {gbrt_pipeline.__class__.__name__} is \"\n",
    "    f\"{gbrt_pipeline.score(X_test, y_test):.3f}\"\n",
    ")"
   ]
  },
  {
   "cell_type": "markdown",
   "metadata": {},
   "source": [
    "### All in one :"
   ]
  },
  {
   "cell_type": "code",
   "execution_count": 82,
   "metadata": {},
   "outputs": [],
   "source": [
    "def make_prediction(model, X_train, X_test, y_train, y_test):\n",
    "\n",
    "    model.fit(X_train, y_train)\n",
    "    target_predicted  = model.predict(X_test)\n",
    "    mae = mean_absolute_error(y_test, target_predicted)\n",
    "    mse = mean_squared_error(y_test, target_predicted)\n",
    "    rmse = np.sqrt(mse)\n",
    "\n",
    "    print(f\"The model {model.__class__.__name__} scores are :\")\n",
    "    print(\"-      The mean absolute error (MAE) on test set: {:.4f}\".format(mae))\n",
    "    print(\"-      The root mean squared error (RMSE) on test set: {:.4f}\".format(rmse))\n",
    "    print(\n",
    "          f\"-      The test accuracy using this model is \"\n",
    "          f\"{model.score(X_test, y_test):.3f}\"\n",
    "    )"
   ]
  },
  {
   "cell_type": "markdown",
   "metadata": {},
   "source": [
    "## All the results :"
   ]
  },
  {
   "cell_type": "code",
   "execution_count": 85,
   "metadata": {},
   "outputs": [
    {
     "name": "stdout",
     "output_type": "stream",
     "text": [
      "The model GradientBoostingRegressor scores are :\n",
      "-      The mean absolute error (MAE) on test set: 0.7222\n",
      "-      The root mean squared error (RMSE) on test set: 0.9373\n",
      "-      The test accuracy using this model is 0.025\n",
      "The model RandomForestRegressor scores are :\n",
      "-      The mean absolute error (MAE) on test set: 0.7216\n",
      "-      The root mean squared error (RMSE) on test set: 0.9350\n",
      "-      The test accuracy using this model is 0.029\n",
      "The model RandomForestRegressor scores are :\n",
      "-      The mean absolute error (MAE) on test set: 0.7216\n",
      "-      The root mean squared error (RMSE) on test set: 0.9352\n",
      "-      The test accuracy using this model is 0.029\n"
     ]
    }
   ],
   "source": [
    "# Only Numerical data models :\n",
    "\n",
    "make_prediction(Xbg_model, data_train, data_test, target_train, target_test)\n",
    "make_prediction(Rf_model, data_train, data_test, target_train, target_test)\n",
    "make_prediction(best_Rf_model, data_train, data_test, target_train, target_test)"
   ]
  },
  {
   "cell_type": "code",
   "execution_count": 88,
   "metadata": {},
   "outputs": [
    {
     "name": "stdout",
     "output_type": "stream",
     "text": [
      "Ridge\n",
      "The model Pipeline scores are :\n",
      "-      The mean absolute error (MAE) on test set: 0.5569\n",
      "-      The root mean squared error (RMSE) on test set: 0.7171\n",
      "-      The test accuracy using this model is 0.459\n",
      "HGBR\n",
      "The model Pipeline scores are :\n",
      "-      The mean absolute error (MAE) on test set: 0.3394\n",
      "-      The root mean squared error (RMSE) on test set: 0.4702\n",
      "-      The test accuracy using this model is 0.768\n",
      "Adaboost\n",
      "The model Pipeline scores are :\n",
      "-      The mean absolute error (MAE) on test set: 0.6418\n",
      "-      The root mean squared error (RMSE) on test set: 0.8018\n",
      "-      The test accuracy using this model is 0.324\n"
     ]
    }
   ],
   "source": [
    "# One-hot-Encoding :\n",
    "\n",
    "print(\"Ridge\")\n",
    "make_prediction(naive_linear_pipeline, X_train, X_test, y_train, y_test)\n",
    "print(\"HGBR\")\n",
    "make_prediction(gbrt_pipeline, X_train, X_test, y_train, y_test)\n",
    "print(\"Adaboost\")\n",
    "make_prediction(adaboost_pipeline, X_train, X_test, y_train, y_test)"
   ]
  },
  {
   "cell_type": "code",
   "execution_count": 89,
   "metadata": {},
   "outputs": [
    {
     "name": "stdout",
     "output_type": "stream",
     "text": [
      "Ridge :\n",
      "The model Pipeline scores are :\n",
      "-      The mean absolute error (MAE) on test set: 0.5527\n",
      "-      The root mean squared error (RMSE) on test set: 0.7151\n",
      "-      The test accuracy using this model is 0.462\n",
      "HGBR :\n",
      "The model Pipeline scores are :\n",
      "-      The mean absolute error (MAE) on test set: 0.3356\n",
      "-      The root mean squared error (RMSE) on test set: 0.4632\n",
      "-      The test accuracy using this model is 0.774\n",
      "Adaboost :\n",
      "The model Pipeline scores are :\n",
      "-      The mean absolute error (MAE) on test set: 0.6235\n",
      "-      The root mean squared error (RMSE) on test set: 0.7854\n",
      "-      The test accuracy using this model is 0.351\n"
     ]
    }
   ],
   "source": [
    "# With Sin&Cos Transformation :\n",
    "\n",
    "print(\"Ridge :\")\n",
    "make_prediction(cyclic_cossin_linear_pipeline, X_train, X_test, y_train, y_test)\n",
    "print(\"HGBR :\")\n",
    "make_prediction(hgb_cossin_pipeline, X_train, X_test, y_train, y_test)\n",
    "print(\"Adaboost :\")\n",
    "make_prediction(adabosst_cossin_pipeline, X_train, X_test, y_train, y_test)"
   ]
  },
  {
   "cell_type": "code",
   "execution_count": 100,
   "metadata": {},
   "outputs": [
    {
     "name": "stdout",
     "output_type": "stream",
     "text": [
      "Ridge\n",
      "The model Pipeline scores are :\n",
      "-      The mean absolute error (MAE) on test set: 0.5472\n",
      "-      The root mean squared error (RMSE) on test set: 0.7033\n",
      "-      The test accuracy using this model is 0.480\n",
      "HGBR\n",
      "The model Pipeline scores are :\n",
      "-      The mean absolute error (MAE) on test set: 0.3347\n",
      "-      The root mean squared error (RMSE) on test set: 0.4612\n",
      "-      The test accuracy using this model is 0.776\n",
      "Adaboost\n",
      "The model Pipeline scores are :\n",
      "-      The mean absolute error (MAE) on test set: 0.6262\n",
      "-      The root mean squared error (RMSE) on test set: 0.7818\n",
      "-      The test accuracy using this model is 0.357\n"
     ]
    }
   ],
   "source": [
    "# Spline Transformation :\n",
    "\n",
    "print(\"Ridge\")\n",
    "make_prediction(cyclic_spline_linear_pipeline, X_train, X_test, y_train, y_test)\n",
    "print(\"HGBR\")\n",
    "make_prediction(hgb_spline_pipeline, X_train, X_test, y_train, y_test)\n",
    "print(\"Adaboost\")\n",
    "make_prediction(adabosst_spline_pipeline, X_train, X_test, y_train, y_test)"
   ]
  },
  {
   "cell_type": "code",
   "execution_count": 90,
   "metadata": {},
   "outputs": [
    {
     "name": "stdout",
     "output_type": "stream",
     "text": [
      "Ridge\n",
      "The model Pipeline scores are :\n",
      "-      The mean absolute error (MAE) on test set: 0.4138\n",
      "-      The root mean squared error (RMSE) on test set: 0.5532\n",
      "-      The test accuracy using this model is 0.678\n",
      "HGBR\n",
      "The model Pipeline scores are :\n",
      "-      The mean absolute error (MAE) on test set: 0.4130\n",
      "-      The root mean squared error (RMSE) on test set: 0.5517\n",
      "-      The test accuracy using this model is 0.680\n",
      "Adaboost\n",
      "The model Pipeline scores are :\n",
      "-      The mean absolute error (MAE) on test set: 0.6400\n",
      "-      The root mean squared error (RMSE) on test set: 0.8010\n",
      "-      The test accuracy using this model is 0.326\n"
     ]
    }
   ],
   "source": [
    "# With Kernel :\n",
    "\n",
    "print(\"Ridge\")\n",
    "make_prediction(cyclic_spline_poly_pipeline, X_train, X_test, y_train, y_test)\n",
    "print(\"HGBR\")\n",
    "make_prediction(hgb_poly_pipeline, X_train, X_test, y_train, y_test)\n",
    "print(\"Adaboost\")\n",
    "make_prediction(adabosst_poly_pipeline, X_train, X_test, y_train, y_test)"
   ]
  },
  {
   "cell_type": "markdown",
   "metadata": {},
   "source": [
    "## Predict on the test data :"
   ]
  },
  {
   "cell_type": "code",
   "execution_count": null,
   "metadata": {},
   "outputs": [],
   "source": [
    "test_data_pro = date_processing(test_data)"
   ]
  },
  {
   "cell_type": "code",
   "execution_count": null,
   "metadata": {},
   "outputs": [],
   "source": [
    "target_validated_predicted = gbrt_pipeline.predict(test_data_pro)\n"
   ]
  },
  {
   "cell_type": "code",
   "execution_count": null,
   "metadata": {},
   "outputs": [
    {
     "data": {
      "text/plain": [
       "array([11.40741215, 10.69515216, 11.69394756, ..., 10.02409972,\n",
       "       10.27565284, 11.51163554])"
      ]
     },
     "execution_count": 371,
     "metadata": {},
     "output_type": "execute_result"
    }
   ],
   "source": [
    "target_validated_predicted"
   ]
  },
  {
   "cell_type": "code",
   "execution_count": null,
   "metadata": {},
   "outputs": [],
   "source": [
    "pd.DataFrame(target_validated_predicted).to_csv(\"submission_gbrt.csv\", header=False, index=False)"
   ]
  },
  {
   "cell_type": "markdown",
   "metadata": {},
   "source": [
    "### All in one :"
   ]
  },
  {
   "cell_type": "code",
   "execution_count": null,
   "metadata": {},
   "outputs": [],
   "source": [
    "def make_submission(test_data, model):\n",
    "\n",
    "    processed_data = date_processing(test_data)\n",
    "    target_validated_predicted = model.predict(processed_data)\n",
    "    file_name = \"submission1_\" + model.__class__.__name__ + \".csv\"\n",
    "    pd.DataFrame(target_validated_predicted).to_csv(file_name, header=False, index=False)\n",
    "\n",
    "    print('the submission was successfully done')\n"
   ]
  },
  {
   "cell_type": "code",
   "execution_count": null,
   "metadata": {},
   "outputs": [
    {
     "name": "stdout",
     "output_type": "stream",
     "text": [
      "the submission was successfully done\n"
     ]
    }
   ],
   "source": [
    "make_submission(test_data, hgb_cossin_pipeline)"
   ]
  }
 ],
 "metadata": {
  "interpreter": {
   "hash": "f85c0ae1067a86ad6a96b144378883e79fd1516474b579ba33ee3a7084540002"
  },
  "kernelspec": {
   "display_name": "Python 3.8.8 64-bit ('base': conda)",
   "name": "python3"
  },
  "language_info": {
   "name": "python",
   "version": ""
  },
  "orig_nbformat": 4
 },
 "nbformat": 4,
 "nbformat_minor": 2
}